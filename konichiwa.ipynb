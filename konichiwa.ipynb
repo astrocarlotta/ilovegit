{
 "cells": [
  {
   "cell_type": "code",
   "execution_count": 3,
   "id": "5c4ccf80-3ec2-43dd-b4f7-a7fcaaaf7e91",
   "metadata": {},
   "outputs": [
    {
     "name": "stdout",
     "output_type": "stream",
     "text": [
      "konichiwa\n"
     ]
    }
   ],
   "source": [
    "print(\"konichiwa, Tokyo!\")"
   ]
  },
  {
   "cell_type": "code",
   "execution_count": 5,
   "id": "30c5cf83-9b85-4d43-b138-96e57b6099e2",
   "metadata": {},
   "outputs": [
    {
     "name": "stdout",
     "output_type": "stream",
     "text": [
      "12\n"
     ]
    }
   ],
   "source": [
    "x = 10 + 2 \n",
    "print (x)"
   ]
  },
  {
   "cell_type": "code",
   "execution_count": null,
   "id": "fc1ff361-61a9-4927-9009-446cb1030d9f",
   "metadata": {},
   "outputs": [],
   "source": []
  }
 ],
 "metadata": {
  "kernelspec": {
   "display_name": "Python 3 (ipykernel)",
   "language": "python",
   "name": "python3"
  },
  "language_info": {
   "codemirror_mode": {
    "name": "ipython",
    "version": 3
   },
   "file_extension": ".py",
   "mimetype": "text/x-python",
   "name": "python",
   "nbconvert_exporter": "python",
   "pygments_lexer": "ipython3",
   "version": "3.10.14"
  }
 },
 "nbformat": 4,
 "nbformat_minor": 5
}
